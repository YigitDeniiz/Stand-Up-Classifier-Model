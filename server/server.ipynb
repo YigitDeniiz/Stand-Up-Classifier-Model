{
 "cells": [
  {
   "cell_type": "code",
   "execution_count": 1,
   "id": "4254c0ea",
   "metadata": {},
   "outputs": [
    {
     "name": "stderr",
     "output_type": "stream",
     "text": [
      "C:\\Users\\yigit\\AppData\\Local\\Programs\\Python\\Python310\\lib\\site-packages\\scipy\\__init__.py:146: UserWarning: A NumPy version >=1.17.3 and <1.25.0 is required for this version of SciPy (detected version 1.26.2\n",
      "  warnings.warn(f\"A NumPy version >={np_minversion} and <{np_maxversion}\"\n"
     ]
    },
    {
     "name": "stdout",
     "output_type": "stream",
     "text": [
      "loading saved artifacts...start\n",
      "loading saved artifacts...done\n",
      "[]\n",
      "[{'class': 'Beyazit_ozturk', 'class_probability': [17.99, 69.55, 4.78, 2.68, 4.99], 'class_dictionary': {'Ata_Demirer': 0, 'Beyazit_ozturk': 1, 'Cem_Yilmaz': 2, 'Okan_Bayulgen': 3, 'Tolga_Cevik': 4}}]\n"
     ]
    }
   ],
   "source": [
    "from flask import Flask,request,jsonify\n",
    "%run util.ipynb"
   ]
  },
  {
   "cell_type": "code",
   "execution_count": 2,
   "id": "d19ff8c7",
   "metadata": {},
   "outputs": [],
   "source": [
    "app = Flask(__name__)"
   ]
  },
  {
   "cell_type": "code",
   "execution_count": null,
   "id": "8a9b0dd0",
   "metadata": {},
   "outputs": [
    {
     "name": "stdout",
     "output_type": "stream",
     "text": [
      "Starting Python Flask Server For Sports Celebrity Image Classification\n",
      "loading saved artifacts...start\n",
      "loading saved artifacts...done\n",
      " * Serving Flask app '__main__'\n",
      " * Debug mode: off\n"
     ]
    },
    {
     "name": "stderr",
     "output_type": "stream",
     "text": [
      "WARNING: This is a development server. Do not use it in a production deployment. Use a production WSGI server instead.\n",
      " * Running on http://127.0.0.1:5000\n",
      "Press CTRL+C to quit\n",
      "127.0.0.1 - - [30/Jan/2024 00:41:03] \"POST /classify_image HTTP/1.1\" 200 -\n",
      "127.0.0.1 - - [30/Jan/2024 00:45:49] \"POST /classify_image HTTP/1.1\" 200 -\n",
      "127.0.0.1 - - [30/Jan/2024 00:46:02] \"POST /classify_image HTTP/1.1\" 200 -\n",
      "127.0.0.1 - - [30/Jan/2024 00:49:34] \"POST /classify_image HTTP/1.1\" 200 -\n",
      "127.0.0.1 - - [30/Jan/2024 00:49:45] \"POST /classify_image HTTP/1.1\" 200 -\n",
      "127.0.0.1 - - [30/Jan/2024 00:50:07] \"POST /classify_image HTTP/1.1\" 200 -\n",
      "127.0.0.1 - - [30/Jan/2024 00:50:54] \"POST /classify_image HTTP/1.1\" 200 -\n",
      "127.0.0.1 - - [30/Jan/2024 00:58:06] \"POST /classify_image HTTP/1.1\" 200 -\n"
     ]
    }
   ],
   "source": [
    "@app.route(\"/classify_image\",methods = [\"GET\",\"POST\"])\n",
    "def classify_image():\n",
    "    image_data = request.form['image_data']\n",
    "\n",
    "    error_verme_sakın = classify_images(image_data)\n",
    "    response = jsonify(error_verme_sakın)\n",
    "\n",
    "    response.headers.add('Access-Control-Allow-Origin', '*')\n",
    "\n",
    "    return response\n",
    "\n",
    "if __name__ == \"__main__\":\n",
    "    print(\"Starting Python Flask Server For Sports Celebrity Image Classification\")\n",
    "    load_saved_artifacts()\n",
    "    app.run(port=5000)"
   ]
  },
  {
   "cell_type": "code",
   "execution_count": null,
   "id": "e9c7978f",
   "metadata": {},
   "outputs": [],
   "source": []
  }
 ],
 "metadata": {
  "kernelspec": {
   "display_name": "Python 3 (ipykernel)",
   "language": "python",
   "name": "python3"
  },
  "language_info": {
   "codemirror_mode": {
    "name": "ipython",
    "version": 3
   },
   "file_extension": ".py",
   "mimetype": "text/x-python",
   "name": "python",
   "nbconvert_exporter": "python",
   "pygments_lexer": "ipython3",
   "version": "3.10.4"
  }
 },
 "nbformat": 4,
 "nbformat_minor": 5
}
